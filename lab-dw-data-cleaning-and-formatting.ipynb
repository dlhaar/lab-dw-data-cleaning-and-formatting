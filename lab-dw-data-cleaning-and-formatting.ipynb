{
 "cells": [
  {
   "cell_type": "markdown",
   "id": "25d7736c-ba17-4aff-b6bb-66eba20fbf4e",
   "metadata": {},
   "source": [
    "# Lab | Data Cleaning and Formatting"
   ]
  },
  {
   "cell_type": "markdown",
   "id": "34ae7c66-9458-477c-8a31-c6b07a36bf66",
   "metadata": {},
   "source": [
    "Objective: Apply Python programming to perform data cleaning and formatting, including identifying and handling with missing values, duplicates, outliers, errors, and using various formatting techniques such as changing data types, renaming columns, and handling string values, to prepare data for analysis."
   ]
  },
  {
   "cell_type": "markdown",
   "id": "d1973e9e-8be6-4039-b70e-d73ee0d94c99",
   "metadata": {},
   "source": [
    "In this lab, we will be working with the customer data from an insurance company, which can be found in the CSV file located at the following link: https://raw.githubusercontent.com/data-bootcamp-v4/data/main/file1.csv\n"
   ]
  },
  {
   "cell_type": "code",
   "execution_count": 1,
   "id": "03089fc5-e51e-44ff-ac2a-d5efab394901",
   "metadata": {},
   "outputs": [],
   "source": [
    "import pandas as pd"
   ]
  },
  {
   "cell_type": "code",
   "execution_count": 2,
   "id": "14c43157-a519-4a53-93d5-6c03b7d103b3",
   "metadata": {},
   "outputs": [],
   "source": [
    "df = pd.read_csv(\"https://raw.githubusercontent.com/data-bootcamp-v4/data/main/file1.csv\")"
   ]
  },
  {
   "cell_type": "code",
   "execution_count": 3,
   "id": "696ad793-114b-4d55-afb5-16994c7937da",
   "metadata": {},
   "outputs": [
    {
     "data": {
      "text/html": [
       "<div>\n",
       "<style scoped>\n",
       "    .dataframe tbody tr th:only-of-type {\n",
       "        vertical-align: middle;\n",
       "    }\n",
       "\n",
       "    .dataframe tbody tr th {\n",
       "        vertical-align: top;\n",
       "    }\n",
       "\n",
       "    .dataframe thead th {\n",
       "        text-align: right;\n",
       "    }\n",
       "</style>\n",
       "<table border=\"1\" class=\"dataframe\">\n",
       "  <thead>\n",
       "    <tr style=\"text-align: right;\">\n",
       "      <th></th>\n",
       "      <th>Customer</th>\n",
       "      <th>ST</th>\n",
       "      <th>GENDER</th>\n",
       "      <th>Education</th>\n",
       "      <th>Customer Lifetime Value</th>\n",
       "      <th>Income</th>\n",
       "      <th>Monthly Premium Auto</th>\n",
       "      <th>Number of Open Complaints</th>\n",
       "      <th>Policy Type</th>\n",
       "      <th>Vehicle Class</th>\n",
       "      <th>Total Claim Amount</th>\n",
       "    </tr>\n",
       "  </thead>\n",
       "  <tbody>\n",
       "    <tr>\n",
       "      <th>0</th>\n",
       "      <td>RB50392</td>\n",
       "      <td>Washington</td>\n",
       "      <td>NaN</td>\n",
       "      <td>Master</td>\n",
       "      <td>NaN</td>\n",
       "      <td>0.0</td>\n",
       "      <td>1000.0</td>\n",
       "      <td>1/0/00</td>\n",
       "      <td>Personal Auto</td>\n",
       "      <td>Four-Door Car</td>\n",
       "      <td>2.704934</td>\n",
       "    </tr>\n",
       "    <tr>\n",
       "      <th>1</th>\n",
       "      <td>QZ44356</td>\n",
       "      <td>Arizona</td>\n",
       "      <td>F</td>\n",
       "      <td>Bachelor</td>\n",
       "      <td>697953.59%</td>\n",
       "      <td>0.0</td>\n",
       "      <td>94.0</td>\n",
       "      <td>1/0/00</td>\n",
       "      <td>Personal Auto</td>\n",
       "      <td>Four-Door Car</td>\n",
       "      <td>1131.464935</td>\n",
       "    </tr>\n",
       "    <tr>\n",
       "      <th>2</th>\n",
       "      <td>AI49188</td>\n",
       "      <td>Nevada</td>\n",
       "      <td>F</td>\n",
       "      <td>Bachelor</td>\n",
       "      <td>1288743.17%</td>\n",
       "      <td>48767.0</td>\n",
       "      <td>108.0</td>\n",
       "      <td>1/0/00</td>\n",
       "      <td>Personal Auto</td>\n",
       "      <td>Two-Door Car</td>\n",
       "      <td>566.472247</td>\n",
       "    </tr>\n",
       "  </tbody>\n",
       "</table>\n",
       "</div>"
      ],
      "text/plain": [
       "  Customer          ST GENDER Education Customer Lifetime Value   Income  \\\n",
       "0  RB50392  Washington    NaN    Master                     NaN      0.0   \n",
       "1  QZ44356     Arizona      F  Bachelor              697953.59%      0.0   \n",
       "2  AI49188      Nevada      F  Bachelor             1288743.17%  48767.0   \n",
       "\n",
       "   Monthly Premium Auto Number of Open Complaints    Policy Type  \\\n",
       "0                1000.0                    1/0/00  Personal Auto   \n",
       "1                  94.0                    1/0/00  Personal Auto   \n",
       "2                 108.0                    1/0/00  Personal Auto   \n",
       "\n",
       "   Vehicle Class  Total Claim Amount  \n",
       "0  Four-Door Car            2.704934  \n",
       "1  Four-Door Car         1131.464935  \n",
       "2   Two-Door Car          566.472247  "
      ]
     },
     "execution_count": 3,
     "metadata": {},
     "output_type": "execute_result"
    }
   ],
   "source": [
    "df.head(3)"
   ]
  },
  {
   "cell_type": "markdown",
   "id": "31b8a9e7-7db9-4604-991b-ef6771603e57",
   "metadata": {},
   "source": [
    "# Challenge 1: Data Cleaning and Formatting"
   ]
  },
  {
   "cell_type": "markdown",
   "id": "81553f19-9f2c-484b-8940-520aff884022",
   "metadata": {},
   "source": [
    "## Exercise 1: Cleaning Column Names"
   ]
  },
  {
   "cell_type": "markdown",
   "id": "3ec42570-52cb-4bf6-a213-3e49322d5e68",
   "metadata": {},
   "source": [
    "To ensure consistency and ease of use, standardize the column names of the dataframe. Start by taking a first look at the dataframe and identifying any column names that need to be modified. Use appropriate naming conventions and make sure that column names are descriptive and informative."
   ]
  },
  {
   "cell_type": "code",
   "execution_count": 4,
   "id": "5810735c-8056-4442-bbf2-dda38d3e284a",
   "metadata": {},
   "outputs": [
    {
     "data": {
      "text/plain": [
       "Index(['Customer', 'ST', 'GENDER', 'Education', 'Customer Lifetime Value',\n",
       "       'Income', 'Monthly Premium Auto', 'Number of Open Complaints',\n",
       "       'Policy Type', 'Vehicle Class', 'Total Claim Amount'],\n",
       "      dtype='object')"
      ]
     },
     "execution_count": 4,
     "metadata": {},
     "output_type": "execute_result"
    }
   ],
   "source": [
    "df.columns"
   ]
  },
  {
   "cell_type": "code",
   "execution_count": 5,
   "id": "c971bf94-1dc2-44a3-8f90-5857d5f90f2b",
   "metadata": {},
   "outputs": [],
   "source": [
    "def col_clean(df):\n",
    "    \"\"\"changes col names to lowercase and replaces white space with an underscore\n",
    "        df: dataframe\n",
    "    \"\"\"\n",
    "    df.columns = df.columns.str.lower()\n",
    "    df.columns = df.columns.str.replace(' ','_')\n",
    "\n",
    "    return df\n",
    "    "
   ]
  },
  {
   "cell_type": "code",
   "execution_count": 6,
   "id": "caf14538-5828-422a-a7b5-64306904e2e9",
   "metadata": {},
   "outputs": [
    {
     "data": {
      "text/plain": [
       "Index(['customer', 'st', 'gender', 'education', 'customer_lifetime_value',\n",
       "       'income', 'monthly_premium_auto', 'number_of_open_complaints',\n",
       "       'policy_type', 'vehicle_class', 'total_claim_amount'],\n",
       "      dtype='object')"
      ]
     },
     "execution_count": 6,
     "metadata": {},
     "output_type": "execute_result"
    }
   ],
   "source": [
    "df = col_clean(df)\n",
    "df.columns"
   ]
  },
  {
   "cell_type": "code",
   "execution_count": 7,
   "id": "fec58b8a-36f6-4c63-9dcd-1548ac561624",
   "metadata": {},
   "outputs": [
    {
     "data": {
      "text/plain": [
       "Index(['customer', 'state', 'gender', 'education', 'customer_lifetime_value',\n",
       "       'income', 'monthly_premium_auto', 'open_complaints', 'policy_type',\n",
       "       'vehicle_class', 'total_claim_amount'],\n",
       "      dtype='object')"
      ]
     },
     "execution_count": 7,
     "metadata": {},
     "output_type": "execute_result"
    }
   ],
   "source": [
    "#changing two column names for clarity\n",
    "df.rename(columns={'st':'state',\n",
    "                   'number_of_open_complaints':'open_complaints'}, inplace=True)\n",
    "df.columns"
   ]
  },
  {
   "cell_type": "markdown",
   "id": "9cb501ec-36ff-4589-b872-6252bb150316",
   "metadata": {},
   "source": [
    "## Exercise 2: Cleaning invalid Values"
   ]
  },
  {
   "cell_type": "markdown",
   "id": "3e9d15bf-efca-4471-8227-41b9850e85bd",
   "metadata": {},
   "source": [
    "The dataset contains columns with inconsistent and incorrect values that could affect the accuracy of our analysis. Therefore, we need to clean these columns to ensure that they contain only valid data. For example, the gender column contains various inconsistent values such as \"F\", \"M\", \"Femal\", \"Male\", \"female\", which need to be standardized.\n",
    "\n",
    "Note that this exercise will focus only on cleaning inconsistent values and will not involve handling null values (NaN or None)."
   ]
  },
  {
   "cell_type": "markdown",
   "id": "23e62965-9986-46fe-82fb-24a4066ff161",
   "metadata": {},
   "source": [
    "### Cleaning `state` column"
   ]
  },
  {
   "cell_type": "code",
   "execution_count": 8,
   "id": "3f8ee5cb-50ab-48af-8a9f-9a389804033c",
   "metadata": {},
   "outputs": [
    {
     "data": {
      "text/plain": [
       "array(['Washington', 'Arizona', 'Nevada', 'California', 'Oregon', 'Cali',\n",
       "       'AZ', 'WA', nan], dtype=object)"
      ]
     },
     "execution_count": 8,
     "metadata": {},
     "output_type": "execute_result"
    }
   ],
   "source": [
    "df.state.unique()"
   ]
  },
  {
   "cell_type": "code",
   "execution_count": 9,
   "id": "efb334bf-cd71-41e0-ac96-6eb161c1e5af",
   "metadata": {},
   "outputs": [],
   "source": [
    "df.state.replace({'AZ':'Arizona',\n",
    "                  'WA':'Washington',\n",
    "                  'Cali':'California'},\n",
    "                 inplace = True)"
   ]
  },
  {
   "cell_type": "markdown",
   "id": "7084c13d-02fd-4124-ad1d-72e2b40cfada",
   "metadata": {},
   "source": [
    "### Cleaning `gender`column"
   ]
  },
  {
   "cell_type": "code",
   "execution_count": 10,
   "id": "bfb6b3b0-906a-4c10-a6fd-837e4ecc359c",
   "metadata": {},
   "outputs": [
    {
     "data": {
      "text/plain": [
       "array([nan, 'F', 'M', 'Femal', 'Male', 'female'], dtype=object)"
      ]
     },
     "execution_count": 10,
     "metadata": {},
     "output_type": "execute_result"
    }
   ],
   "source": [
    "df.gender.unique()"
   ]
  },
  {
   "cell_type": "code",
   "execution_count": 11,
   "id": "0d38cf09-5f3d-464a-ba45-8c38ccbeefbb",
   "metadata": {},
   "outputs": [],
   "source": [
    "df.gender.replace({'Femal':'F',\n",
    "                   'Male': 'M',\n",
    "                   'female':'F'},\n",
    "                  inplace=True)"
   ]
  },
  {
   "cell_type": "code",
   "execution_count": 12,
   "id": "b92abd71-3b04-4b6d-92da-b96f5c367520",
   "metadata": {},
   "outputs": [
    {
     "data": {
      "text/plain": [
       "array([nan, 'F', 'M'], dtype=object)"
      ]
     },
     "execution_count": 12,
     "metadata": {},
     "output_type": "execute_result"
    }
   ],
   "source": [
    "df.gender.unique()"
   ]
  },
  {
   "cell_type": "markdown",
   "id": "a302b706-2963-40fc-a08b-f2e13d9ef244",
   "metadata": {},
   "source": [
    "### Cleaning `education` column"
   ]
  },
  {
   "cell_type": "code",
   "execution_count": 13,
   "id": "fa42c62b-f17b-45a0-bb43-4cac63ea9232",
   "metadata": {},
   "outputs": [
    {
     "data": {
      "text/plain": [
       "array(['Master', 'Bachelor', 'High School or Below', 'College',\n",
       "       'Bachelors', 'Doctor', nan], dtype=object)"
      ]
     },
     "execution_count": 13,
     "metadata": {},
     "output_type": "execute_result"
    }
   ],
   "source": [
    "df.education.unique()"
   ]
  },
  {
   "cell_type": "code",
   "execution_count": 14,
   "id": "33a6abd0-c035-4bb6-a914-1fdb698923fa",
   "metadata": {},
   "outputs": [],
   "source": [
    "df.education.replace({'Bachelors':'Bachelor',\n",
    "                      'College':'Bachelor'},\n",
    "                      inplace = True)"
   ]
  },
  {
   "cell_type": "markdown",
   "id": "85ff78ce-0174-4890-9db3-8048b7d7d2d0",
   "metadata": {},
   "source": [
    "## Exercise 3: Formatting data types"
   ]
  },
  {
   "cell_type": "markdown",
   "id": "b91c2cf8-79a2-4baf-9f65-ff2fb22270bd",
   "metadata": {},
   "source": [
    "The data types of many columns in the dataset appear to be incorrect. This could impact the accuracy of our analysis. To ensure accurate analysis, we need to correct the data types of these columns. Please update the data types of the columns as appropriate. "
   ]
  },
  {
   "cell_type": "markdown",
   "id": "43e5d853-ff9e-43b2-9d92-aef2f78764f3",
   "metadata": {},
   "source": [
    "It is important to note that this exercise does not involve handling null values (NaN or None)."
   ]
  },
  {
   "cell_type": "code",
   "execution_count": 15,
   "id": "eb8f5991-73e9-405f-bf1c-6b7c589379a9",
   "metadata": {},
   "outputs": [
    {
     "name": "stdout",
     "output_type": "stream",
     "text": [
      "<class 'pandas.core.frame.DataFrame'>\n",
      "RangeIndex: 4008 entries, 0 to 4007\n",
      "Data columns (total 11 columns):\n",
      " #   Column                   Non-Null Count  Dtype  \n",
      "---  ------                   --------------  -----  \n",
      " 0   customer                 1071 non-null   object \n",
      " 1   state                    1071 non-null   object \n",
      " 2   gender                   954 non-null    object \n",
      " 3   education                1071 non-null   object \n",
      " 4   customer_lifetime_value  1068 non-null   object \n",
      " 5   income                   1071 non-null   float64\n",
      " 6   monthly_premium_auto     1071 non-null   float64\n",
      " 7   open_complaints          1071 non-null   object \n",
      " 8   policy_type              1071 non-null   object \n",
      " 9   vehicle_class            1071 non-null   object \n",
      " 10  total_claim_amount       1071 non-null   float64\n",
      "dtypes: float64(3), object(8)\n",
      "memory usage: 344.6+ KB\n"
     ]
    }
   ],
   "source": [
    "df.info()"
   ]
  },
  {
   "cell_type": "code",
   "execution_count": 16,
   "id": "33a9a661-4d9f-4d0d-bc77-2c6190d512d4",
   "metadata": {},
   "outputs": [],
   "source": [
    "#customer_lifetime_value has a percent sign in the text - remove percent sign and change to float\n",
    "\n",
    "df.customer_lifetime_value = df.customer_lifetime_value.str.replace('%','')\n",
    "df.customer_lifetime_value = df.customer_lifetime_value.astype('float')"
   ]
  },
  {
   "cell_type": "code",
   "execution_count": 17,
   "id": "6aa1d35f-ed94-4965-be06-59a6f62dd8ce",
   "metadata": {},
   "outputs": [
    {
     "name": "stdout",
     "output_type": "stream",
     "text": [
      "<class 'pandas.core.frame.DataFrame'>\n",
      "RangeIndex: 4008 entries, 0 to 4007\n",
      "Data columns (total 11 columns):\n",
      " #   Column                   Non-Null Count  Dtype  \n",
      "---  ------                   --------------  -----  \n",
      " 0   customer                 1071 non-null   object \n",
      " 1   state                    1071 non-null   object \n",
      " 2   gender                   954 non-null    object \n",
      " 3   education                1071 non-null   object \n",
      " 4   customer_lifetime_value  1068 non-null   float64\n",
      " 5   income                   1071 non-null   float64\n",
      " 6   monthly_premium_auto     1071 non-null   float64\n",
      " 7   open_complaints          1071 non-null   object \n",
      " 8   policy_type              1071 non-null   object \n",
      " 9   vehicle_class            1071 non-null   object \n",
      " 10  total_claim_amount       1071 non-null   float64\n",
      "dtypes: float64(4), object(7)\n",
      "memory usage: 344.6+ KB\n"
     ]
    }
   ],
   "source": [
    "df.info()"
   ]
  },
  {
   "cell_type": "code",
   "execution_count": 18,
   "id": "a890966c-bbc7-4e91-be49-0263dcb8fdf0",
   "metadata": {},
   "outputs": [],
   "source": [
    "#total claim amount col should have only two decimal places\n",
    "\n",
    "df.total_claim_amount = df.total_claim_amount.round(2)"
   ]
  },
  {
   "cell_type": "code",
   "execution_count": 19,
   "id": "6fec66c1-8f30-440f-9a59-d0b0e1269571",
   "metadata": {},
   "outputs": [],
   "source": [
    "# need first digit from open_complaints col -- change to float (can't change to int because of the NaNs)\n",
    "df_test = df.copy()\n",
    "df_test.open_complaints=df_test.open_complaints.str[0]\n",
    "#df_test.open_complaints[:2]\n",
    "\n",
    "#change open_complaints to float\n",
    "df_test.open_complaints = df_test.open_complaints.astype(float)\n",
    "df = df_test\n"
   ]
  },
  {
   "cell_type": "markdown",
   "id": "14c52e28-2d0c-4dd2-8bd5-3476e34fadc1",
   "metadata": {},
   "source": [
    "## Exercise 4: Dealing with Null values"
   ]
  },
  {
   "cell_type": "markdown",
   "id": "73b7e0e7-959a-46cf-bb36-6662c262740f",
   "metadata": {},
   "source": [
    "Identify any columns with null or missing values. Identify how many null values each column has. You can use the isnull() function in pandas to find columns with null values.\n",
    "\n",
    "Decide on a strategy for handling the null values. There are several options, including:\n",
    "\n",
    "- Drop the rows or columns with null values\n",
    "- Fill the null values with a specific value (such as the column mean or median for numerical variables and mode for categorical variables)\n",
    "- Fill the null values with the previous or next value in the column\n",
    "- Fill the null values based on a more complex algorithm or model (we haven't studied this yet)\n",
    "\n",
    "Implement your chosen strategy to handle the null values. You can use the fillna() function in pandas to fill null values or dropna() function to drop null values.\n",
    "\n",
    "Verify that your strategy has successfully handled the null values. You can use the isnull() function again to check if there are still null values in the dataset.\n",
    "\n",
    "Remember to document your process and explain your reasoning for choosing a particular strategy for handling null values. \n"
   ]
  },
  {
   "cell_type": "markdown",
   "id": "c5df7cac-92ab-4ed5-8513-885e1fb77d72",
   "metadata": {},
   "source": [
    "After formatting data types, as a last step, convert all the numeric variables to integers using applymap."
   ]
  },
  {
   "cell_type": "markdown",
   "id": "5c1e54fd-0f34-489a-aa7c-cdf660ed1c21",
   "metadata": {},
   "source": [
    "Save the cleaned dataset to a new CSV file."
   ]
  },
  {
   "cell_type": "code",
   "execution_count": 20,
   "id": "109b0d30-c999-4820-bba6-b7ab7d45f3db",
   "metadata": {},
   "outputs": [
    {
     "data": {
      "text/plain": [
       "customer                   2937\n",
       "state                      2937\n",
       "gender                     3054\n",
       "education                  2937\n",
       "customer_lifetime_value    2940\n",
       "income                     2937\n",
       "monthly_premium_auto       2937\n",
       "open_complaints            2937\n",
       "policy_type                2937\n",
       "vehicle_class              2937\n",
       "total_claim_amount         2937\n",
       "dtype: int64"
      ]
     },
     "execution_count": 20,
     "metadata": {},
     "output_type": "execute_result"
    }
   ],
   "source": [
    "df.isnull().sum()"
   ]
  },
  {
   "cell_type": "code",
   "execution_count": 21,
   "id": "647989fa-5190-4837-8af2-a3ece087caee",
   "metadata": {},
   "outputs": [
    {
     "data": {
      "text/html": [
       "<div>\n",
       "<style scoped>\n",
       "    .dataframe tbody tr th:only-of-type {\n",
       "        vertical-align: middle;\n",
       "    }\n",
       "\n",
       "    .dataframe tbody tr th {\n",
       "        vertical-align: top;\n",
       "    }\n",
       "\n",
       "    .dataframe thead th {\n",
       "        text-align: right;\n",
       "    }\n",
       "</style>\n",
       "<table border=\"1\" class=\"dataframe\">\n",
       "  <thead>\n",
       "    <tr style=\"text-align: right;\">\n",
       "      <th></th>\n",
       "      <th>0</th>\n",
       "    </tr>\n",
       "  </thead>\n",
       "  <tbody>\n",
       "    <tr>\n",
       "      <th>customer</th>\n",
       "      <td>73.28</td>\n",
       "    </tr>\n",
       "    <tr>\n",
       "      <th>state</th>\n",
       "      <td>73.28</td>\n",
       "    </tr>\n",
       "    <tr>\n",
       "      <th>gender</th>\n",
       "      <td>76.20</td>\n",
       "    </tr>\n",
       "    <tr>\n",
       "      <th>education</th>\n",
       "      <td>73.28</td>\n",
       "    </tr>\n",
       "    <tr>\n",
       "      <th>customer_lifetime_value</th>\n",
       "      <td>73.35</td>\n",
       "    </tr>\n",
       "    <tr>\n",
       "      <th>income</th>\n",
       "      <td>73.28</td>\n",
       "    </tr>\n",
       "    <tr>\n",
       "      <th>monthly_premium_auto</th>\n",
       "      <td>73.28</td>\n",
       "    </tr>\n",
       "    <tr>\n",
       "      <th>open_complaints</th>\n",
       "      <td>73.28</td>\n",
       "    </tr>\n",
       "    <tr>\n",
       "      <th>policy_type</th>\n",
       "      <td>73.28</td>\n",
       "    </tr>\n",
       "    <tr>\n",
       "      <th>vehicle_class</th>\n",
       "      <td>73.28</td>\n",
       "    </tr>\n",
       "    <tr>\n",
       "      <th>total_claim_amount</th>\n",
       "      <td>73.28</td>\n",
       "    </tr>\n",
       "  </tbody>\n",
       "</table>\n",
       "</div>"
      ],
      "text/plain": [
       "                             0\n",
       "customer                 73.28\n",
       "state                    73.28\n",
       "gender                   76.20\n",
       "education                73.28\n",
       "customer_lifetime_value  73.35\n",
       "income                   73.28\n",
       "monthly_premium_auto     73.28\n",
       "open_complaints          73.28\n",
       "policy_type              73.28\n",
       "vehicle_class            73.28\n",
       "total_claim_amount       73.28"
      ]
     },
     "execution_count": 21,
     "metadata": {},
     "output_type": "execute_result"
    }
   ],
   "source": [
    "missing_values_df = pd.DataFrame(round(df.isna().sum()/len(df),4)*100)\n",
    "missing_values_df"
   ]
  },
  {
   "cell_type": "code",
   "execution_count": 22,
   "id": "977c1661-99ac-46ee-94da-ce5bd6eadae7",
   "metadata": {},
   "outputs": [
    {
     "name": "stdout",
     "output_type": "stream",
     "text": [
      "<class 'pandas.core.frame.DataFrame'>\n",
      "RangeIndex: 4008 entries, 0 to 4007\n",
      "Data columns (total 11 columns):\n",
      " #   Column                   Non-Null Count  Dtype  \n",
      "---  ------                   --------------  -----  \n",
      " 0   customer                 1071 non-null   object \n",
      " 1   state                    1071 non-null   object \n",
      " 2   gender                   954 non-null    object \n",
      " 3   education                1071 non-null   object \n",
      " 4   customer_lifetime_value  1068 non-null   float64\n",
      " 5   income                   1071 non-null   float64\n",
      " 6   monthly_premium_auto     1071 non-null   float64\n",
      " 7   open_complaints          1071 non-null   float64\n",
      " 8   policy_type              1071 non-null   object \n",
      " 9   vehicle_class            1071 non-null   object \n",
      " 10  total_claim_amount       1071 non-null   float64\n",
      "dtypes: float64(5), object(6)\n",
      "memory usage: 344.6+ KB\n"
     ]
    }
   ],
   "source": [
    "df.info()"
   ]
  },
  {
   "cell_type": "code",
   "execution_count": 23,
   "id": "5f347292-35c6-45da-be13-77592c3a78a4",
   "metadata": {},
   "outputs": [
    {
     "data": {
      "text/html": [
       "<div>\n",
       "<style scoped>\n",
       "    .dataframe tbody tr th:only-of-type {\n",
       "        vertical-align: middle;\n",
       "    }\n",
       "\n",
       "    .dataframe tbody tr th {\n",
       "        vertical-align: top;\n",
       "    }\n",
       "\n",
       "    .dataframe thead th {\n",
       "        text-align: right;\n",
       "    }\n",
       "</style>\n",
       "<table border=\"1\" class=\"dataframe\">\n",
       "  <thead>\n",
       "    <tr style=\"text-align: right;\">\n",
       "      <th></th>\n",
       "      <th>customer</th>\n",
       "      <th>state</th>\n",
       "      <th>gender</th>\n",
       "      <th>education</th>\n",
       "      <th>customer_lifetime_value</th>\n",
       "      <th>income</th>\n",
       "      <th>monthly_premium_auto</th>\n",
       "      <th>open_complaints</th>\n",
       "      <th>policy_type</th>\n",
       "      <th>vehicle_class</th>\n",
       "      <th>total_claim_amount</th>\n",
       "    </tr>\n",
       "  </thead>\n",
       "  <tbody>\n",
       "    <tr>\n",
       "      <th>0</th>\n",
       "      <td>RB50392</td>\n",
       "      <td>Washington</td>\n",
       "      <td>NaN</td>\n",
       "      <td>Master</td>\n",
       "      <td>NaN</td>\n",
       "      <td>0.0</td>\n",
       "      <td>1000.0</td>\n",
       "      <td>1.0</td>\n",
       "      <td>Personal Auto</td>\n",
       "      <td>Four-Door Car</td>\n",
       "      <td>2.70</td>\n",
       "    </tr>\n",
       "    <tr>\n",
       "      <th>1</th>\n",
       "      <td>QZ44356</td>\n",
       "      <td>Arizona</td>\n",
       "      <td>F</td>\n",
       "      <td>Bachelor</td>\n",
       "      <td>697953.59</td>\n",
       "      <td>0.0</td>\n",
       "      <td>94.0</td>\n",
       "      <td>1.0</td>\n",
       "      <td>Personal Auto</td>\n",
       "      <td>Four-Door Car</td>\n",
       "      <td>1131.46</td>\n",
       "    </tr>\n",
       "    <tr>\n",
       "      <th>2</th>\n",
       "      <td>AI49188</td>\n",
       "      <td>Nevada</td>\n",
       "      <td>F</td>\n",
       "      <td>Bachelor</td>\n",
       "      <td>1288743.17</td>\n",
       "      <td>48767.0</td>\n",
       "      <td>108.0</td>\n",
       "      <td>1.0</td>\n",
       "      <td>Personal Auto</td>\n",
       "      <td>Two-Door Car</td>\n",
       "      <td>566.47</td>\n",
       "    </tr>\n",
       "  </tbody>\n",
       "</table>\n",
       "</div>"
      ],
      "text/plain": [
       "  customer       state gender education  customer_lifetime_value   income  \\\n",
       "0  RB50392  Washington    NaN    Master                      NaN      0.0   \n",
       "1  QZ44356     Arizona      F  Bachelor                697953.59      0.0   \n",
       "2  AI49188      Nevada      F  Bachelor               1288743.17  48767.0   \n",
       "\n",
       "   monthly_premium_auto  open_complaints    policy_type  vehicle_class  \\\n",
       "0                1000.0              1.0  Personal Auto  Four-Door Car   \n",
       "1                  94.0              1.0  Personal Auto  Four-Door Car   \n",
       "2                 108.0              1.0  Personal Auto   Two-Door Car   \n",
       "\n",
       "   total_claim_amount  \n",
       "0                2.70  \n",
       "1             1131.46  \n",
       "2              566.47  "
      ]
     },
     "execution_count": 23,
     "metadata": {},
     "output_type": "execute_result"
    }
   ],
   "source": [
    "df.head(3)"
   ]
  },
  {
   "cell_type": "markdown",
   "id": "420a1bac-fa72-4cf9-87d0-4e6801754191",
   "metadata": {},
   "source": [
    "### Replacing NaNs in categorical variables"
   ]
  },
  {
   "cell_type": "code",
   "execution_count": 27,
   "id": "668d2fcc-234e-415f-8943-68570f8a539b",
   "metadata": {},
   "outputs": [],
   "source": [
    "import numpy as np\n",
    "def replace_missing_values_in_categorical_columns(df: pd.DataFrame, val_to_fill:str) ->pd.DataFrame:\n",
    "    '''\n",
    "    Replaces the missing values in all categorical columns with the value 'Unknown'\n",
    "\n",
    "    Input\n",
    "    df: DataFrame\n",
    "    val_to_fill: the value you want to replace the NaNs with\n",
    "\n",
    "    Output\n",
    "    df: DataFrame\n",
    "\n",
    "    '''\n",
    "\n",
    "    # Make a copy of the dataframe\n",
    "    df2 = df.copy()\n",
    "\n",
    "    # Select the categorical columns\n",
    "    df2_categorical = df2.select_dtypes('object')\n",
    "\n",
    "    #Get columns names with missing values\n",
    "    columns_with_nas = df2_categorical[df2_categorical.columns[df2_categorical.isna().any()]]\n",
    "\n",
    "    # Iterate over the columns with missing values to replace them\n",
    "    for column in columns_with_nas:\n",
    "        df2[column] = df2[column].fillna(val_to_fill)\n",
    "\n",
    "    return df2"
   ]
  },
  {
   "cell_type": "code",
   "execution_count": 33,
   "id": "1c3f1302-bc14-440c-b26d-b34ddce54e9a",
   "metadata": {},
   "outputs": [],
   "source": [
    "df = replace_missing_values_in_categorical_columns(df,'Unknown')"
   ]
  },
  {
   "cell_type": "markdown",
   "id": "6bae7a56-1e74-4f06-9dda-a7e7ad502deb",
   "metadata": {},
   "source": [
    "### Replaceing NaNs in numeric variables"
   ]
  },
  {
   "cell_type": "code",
   "execution_count": 41,
   "id": "ac551cdd-b73d-4342-b3fb-2a7585ae6c22",
   "metadata": {},
   "outputs": [],
   "source": [
    "def replace_missing_values_in_numerical_columns(df: pd.DataFrame,  strategy='mean') ->pd.DataFrame:\n",
    "    '''\n",
    "    Replaces the missing values in all numerical columns with either the mean, median or mode\n",
    "\n",
    "    Input\n",
    "    df: DataFrame\n",
    "    strategy: the central tendency type you want to use\n",
    "\n",
    "    Output\n",
    "    df: DataFrame\n",
    "    '''\n",
    "\n",
    "    # Make a copy of the dataframe\n",
    "    df2 = df.copy()\n",
    "\n",
    "    # Select the numerical columns\n",
    "    df2_numerical = df2.select_dtypes(np.number)\n",
    "\n",
    "    # Get the columns names with missing values\n",
    "    columns_with_nas = df2_numerical[df2_numerical.columns[df2_numerical.isna().any()]]\n",
    "\n",
    "    # Iterate over the columns with missing values to replace them\n",
    "    for column in columns_with_nas:\n",
    "        if strategy == \"mean\":\n",
    "            mean_value = df2[column].mean()\n",
    "            df2[column] = df2[column].fillna(mean_value)\n",
    "        elif strategy == \"median\":\n",
    "            median_value = df2[column].median()\n",
    "            df2[column] = df2[column].fillna(median_value)\n",
    "        elif strategy == \"mode\":\n",
    "            mode_value = df2[column].mode()[0]\n",
    "            df2[column] = df2[column].fillna(mode_value)\n",
    "    \n",
    "    return df2"
   ]
  },
  {
   "cell_type": "code",
   "execution_count": 46,
   "id": "77882c16-0998-4de2-b73e-9fd86f76aa04",
   "metadata": {
    "scrolled": true
   },
   "outputs": [],
   "source": [
    "df = replace_missing_values_in_numerical_columns(df,'median')"
   ]
  },
  {
   "cell_type": "markdown",
   "id": "98416351-e999-4156-9834-9b00a311adfa",
   "metadata": {},
   "source": [
    "## Exercise 5: Dealing with duplicates"
   ]
  },
  {
   "cell_type": "markdown",
   "id": "ae35e8e9-4ee4-4e8e-8a5a-c8d270693bb5",
   "metadata": {},
   "source": [
    "Use the .duplicated() method to identify any duplicate rows in the dataframe.\n",
    "\n",
    "Decide on a strategy for handling the duplicates. Options include:\n",
    "- Dropping all duplicate rows\n",
    "- Keeping only the first occurrence of each duplicated row\n",
    "- Keeping only the last occurrence of each duplicated row\n",
    "- Dropping duplicates based on a subset of columns\n",
    "- Dropping duplicates based on a specific column\n",
    "\n",
    "Implement your chosen strategy using the drop_duplicates() function.\n",
    "\n",
    "Verify that your strategy has successfully handled the duplicates by checking for duplicates again using .duplicated().\n",
    "\n",
    "Remember to document your process and explain your reasoning for choosing a particular strategy for handling duplicates.\n",
    "\n",
    "Save the cleaned dataset to a new CSV file."
   ]
  },
  {
   "cell_type": "code",
   "execution_count": null,
   "id": "9c868168-dfdb-4ff7-a81b-9c3da8b2847f",
   "metadata": {},
   "outputs": [],
   "source": [
    "dups = df[df.duplicated()]\n",
    "dups"
   ]
  },
  {
   "cell_type": "code",
   "execution_count": 49,
   "id": "1929362c-47ed-47cb-baca-358b78d401a0",
   "metadata": {},
   "outputs": [],
   "source": [
    "# Your code here\n",
    "def drop_duplicate_rows(df:pd.DataFrame)->pd.DataFrame:\n",
    "    df_temp = df.copy()\n",
    "\n",
    "    df_temp = df_temp.drop_duplicates()\n",
    "\n",
    "    return df_temp\n",
    "    "
   ]
  },
  {
   "cell_type": "code",
   "execution_count": 51,
   "id": "db3e9068-1385-497f-9a3d-32dfc1b958b8",
   "metadata": {},
   "outputs": [],
   "source": [
    "df = drop_duplicate_rows(df)"
   ]
  },
  {
   "cell_type": "code",
   "execution_count": 53,
   "id": "ede5a582-2209-4b5f-b543-30f0ca0af35d",
   "metadata": {},
   "outputs": [],
   "source": [
    "#df.to_csv('file1_cleaned.csv',index=False)"
   ]
  },
  {
   "cell_type": "markdown",
   "id": "60840701-4783-40e2-b4d8-55303f9100c9",
   "metadata": {},
   "source": [
    "# Challenge 2: creating functions on a separate `py` file"
   ]
  },
  {
   "cell_type": "markdown",
   "id": "9d1adb3a-17cf-4899-8041-da21a4337fb4",
   "metadata": {},
   "source": [
    "Put all the data cleaning and formatting steps into functions, and create a main function that performs all the cleaning and formatting. \n",
    "\n",
    "Write these functions in a separate .py file(s). By putting these steps into functions, we can make the code more modular and easier to maintain. "
   ]
  },
  {
   "cell_type": "markdown",
   "id": "0e170dc2-b62c-417a-8248-e63ed18a70c4",
   "metadata": {},
   "source": [
    "*Hint: autoreload module is a utility module in Python that allows you to automatically reload modules in the current session when changes are made to the source code. This can be useful in situations where you are actively developing code and want to see the effects of changes you make without having to constantly restart the Python interpreter or Jupyter Notebook kernel.*"
   ]
  },
  {
   "cell_type": "code",
   "execution_count": null,
   "id": "a52c6dfc-cd11-4d01-bda4-f719fa33e9a4",
   "metadata": {},
   "outputs": [],
   "source": [
    "import pandas as pd\n",
    "import numpy as np\n",
    "\n",
    "def clean_col_names(df:pd.DataFrame)->pd.DataFrame:\n",
    "    \"\"\"changes col names to lowercase and replaces white space with an underscore\n",
    "\n",
    "    Input\n",
    "    df: pd.DataFrame\n",
    "\n",
    "    Output\n",
    "    df: pd.DataFrame\n",
    "\n",
    "    \"\"\"\n",
    "    df_temp = df.copy()\n",
    "    df_temp.columns = df_temp.columns.str.lower()\n",
    "    df_temp.columns = df_temp.columns.str.replace(' ','_')\n",
    "\n",
    "    return df_temp\n",
    "\n",
    "def rename_col_names(df:pd.DataFrame,col_name_dict:dict)->pd.DataFrame:\n",
    "    \"\"\"\n",
    "    replaces column names with other new column names as set in the dict\n",
    "\n",
    "    Input\n",
    "    df: pd.DataFrame\n",
    "    rename_dict: dictionary with the old column names and the new ones\n",
    "\n",
    "    Output\n",
    "    df: pd.DataFrame\n",
    "\n",
    "    \"\"\"\n",
    "    df_temp = df.copy()\n",
    "    df_temp.rename(columns=col_name_dict, inplace=True)\n",
    "    return df_temp\n",
    "\n",
    "def harmonize_col_values(df:pd.DataFrame,harmonize_col:str, harmonize_dict:dict)->pd.DataFrame:\n",
    "    \"\"\"\n",
    "    harmonize column values\n",
    "\n",
    "    Input\n",
    "    df: pd.DataFrame\n",
    "    harmonize_col: column where the values are located\n",
    "    harmonize_dict: dictionary with the column values to change and the new column values\n",
    "\n",
    "    Output\n",
    "    df: pd.DataFrame\n",
    "    \"\"\"\n",
    "    df_temp = df.copy()\n",
    "    df_temp[harmonize_col].replace(harmonize_dict,inplace=True)\n",
    "    return df_temp\n",
    "\n",
    "def replace_col_characters(df:pd.DataFrame,replace_col:str,old_char:str,new_char:str)->pd.DataFrame:\n",
    "    \"\"\"\n",
    "    replace a character in a column value\n",
    "\n",
    "    Input\n",
    "    df: pd.DataFrame\n",
    "    replace_col: column where value is to be replaced\n",
    "    old_char: the character you want removed\n",
    "    new_char: the character you want to add\n",
    "\n",
    "    Output\n",
    "    df: pd.DataFrame\n",
    "    \"\"\"\n",
    "    df_temp = df.copy()\n",
    "    df_temp[replace_col] = df_temp[replace_col].str.replace(old_char,new_char)\n",
    "    return df_temp\n",
    "\n",
    "def set_type(df:pd.DataFrame,change_type_col:str, type=float)->pd.DataFrame:\n",
    "    \"\"\"\n",
    "    changes the dtype in a column\n",
    "\n",
    "    Input\n",
    "    df: pd.DataFrame\n",
    "    change_type_col: column\n",
    "    type: dtype you want, default is float\n",
    "\n",
    "    Output\n",
    "    df: pd.DataFrame\n",
    "\n",
    "    \"\"\"\n",
    "    df_temp = df.copy()\n",
    "    df_temp[change_type_col] = df_temp[change_type_col].astype(type)\n",
    "    return df_temp\n",
    "\n",
    "def round_col_num(df:pd.DataFrame,round_col:str,places:int)->pd.DataFrame:\n",
    "    \"\"\"\n",
    "    round numbers\n",
    "\n",
    "    Input\n",
    "    df: pd.DataFrame\n",
    "    round_col: column\n",
    "    places: number of places to round to\n",
    "\n",
    "    Output\n",
    "    df: pd.DataFrame\n",
    "\n",
    "    \"\"\"\n",
    "    df_temp = df.copy()\n",
    "    df_temp[round_col] = df_temp[round_col].round(places)\n",
    "    return df_temp\n",
    "\n",
    "def get_str_element(df:pd.DataFrame,get_col:str,str_index:int)->pd.DataFrame:\n",
    "    \"\"\"\n",
    "    replaces column values with an element in the column\n",
    "    example: 'abc' --> 'a'\n",
    "\n",
    "    Input\n",
    "    df: pd.DataFrame\n",
    "    get_col: col\n",
    "    str_index: index of string element\n",
    "\n",
    "    Output\n",
    "    df: pd.DataFrame\n",
    "    \"\"\"\n",
    "    df_temp = df.copy()\n",
    "    df_temp[get_col] = df_temp[get_col].str[str_index]\n",
    "    return df_temp\n",
    "\n",
    "def replace_missing_values_in_categorical_columns(df: pd.DataFrame, val_to_fill:str) ->pd.DataFrame:\n",
    "    '''\n",
    "    Replaces the missing values in all categorical columns with the specified value\n",
    "\n",
    "    Input\n",
    "    df: DataFrame\n",
    "    val_to_fill: the value you want to replace the NaNs with\n",
    "\n",
    "    Output\n",
    "    df: DataFrame\n",
    "\n",
    "    '''\n",
    "\n",
    "    # Make a copy of the dataframe\n",
    "    df_temp = df.copy()\n",
    "\n",
    "    # Select the categorical columns\n",
    "    df_temp_categorical = df_temp.select_dtypes('object')\n",
    "\n",
    "    #Get columns names with missing values\n",
    "    columns_with_nas = df_temp_categorical[df_temp_categorical.columns[df_temp_categorical.isna().any()]]\n",
    "\n",
    "    # Iterate over the columns with missing values to replace them\n",
    "    for column in columns_with_nas:\n",
    "        df_temp[column] = df_temp[column].fillna(val_to_fill)\n",
    "\n",
    "    return df_temp\n",
    "\n",
    "def replace_missing_values_in_numerical_columns(df: pd.DataFrame,  strategy='mean') ->pd.DataFrame:\n",
    "    '''\n",
    "    Replaces the missing values in all numerical columns with either the mean, median or mode\n",
    "\n",
    "    Input\n",
    "    df: DataFrame\n",
    "    strategy: the central tendency type you want to use\n",
    "\n",
    "    Output\n",
    "    df: DataFrame\n",
    "    '''\n",
    "\n",
    "    # Make a copy of the dataframe\n",
    "    df2 = df.copy()\n",
    "\n",
    "    # Select the numerical columns\n",
    "    df2_numerical = df2.select_dtypes(np.number)\n",
    "\n",
    "    # Get the columns names with missing values\n",
    "    columns_with_nas = df2_numerical[df2_numerical.columns[df2_numerical.isna().any()]]\n",
    "\n",
    "    # Iterate over the columns with missing values to replace them\n",
    "    for column in columns_with_nas:\n",
    "        if strategy == \"mean\":\n",
    "            mean_value = df2[column].mean()\n",
    "            df2[column] = df2[column].fillna(mean_value)\n",
    "        elif strategy == \"median\":\n",
    "            median_value = df2[column].median()\n",
    "            df2[column] = df2[column].fillna(median_value)\n",
    "        elif strategy == \"mode\":\n",
    "            mode_value = df2[column].mode()[0]\n",
    "            df2[column] = df2[column].fillna(mode_value)\n",
    "\n",
    "    return df2\n",
    "\n",
    "def drop_duplicate_rows(df:pd.DataFrame)->pd.DataFrame:\n",
    "    \"\"\"\n",
    "    drops duplicates in complete rows\n",
    "    :param df: pd.DataFrame\n",
    "    :return: pd.DataFrame\n",
    "\n",
    "    \"\"\"\n",
    "    df_temp = df.copy()\n",
    "    df_temp = df_temp.drop_duplicates()\n",
    "    return df_temp\n",
    "\n",
    "\n",
    "def clean_df(df:pd.DataFrame) -> pd.DataFrame:\n",
    "\n",
    "    #get copy of df\n",
    "    df_temp = df.copy()\n",
    "\n",
    "    df_temp = clean_col_names(df_temp)\n",
    "    df_temp = rename_col_names(df_temp,col_rename_dict)\n",
    "\n",
    "    #harmonize state,gender,education cols\n",
    "    df_temp = harmonize_col_values(df_temp, 'state', state_harmonize_dict)\n",
    "    df_temp = harmonize_col_values(df_temp, 'gender', gender_harmonize_dict)\n",
    "    df_temp = harmonize_col_values(df_temp, 'education', education_harmonize_dict)\n",
    "\n",
    "    #formatting data types\n",
    "    df_temp = replace_col_characters(df_temp, 'customer_lifetime_value', '%','')\n",
    "    df_temp = set_type(df_temp,'customer_lifetime_value',float)\n",
    "\n",
    "    df_temp = round_col_num(df_temp,'total_claim_amount', 2)\n",
    "\n",
    "    df_temp = get_str_element(df_temp, 'open_complaints', 0)\n",
    "    df_temp = set_type(df_temp, 'open_complaints',float)\n",
    "\n",
    "    #dealing with null values\n",
    "    df_temp = replace_missing_values_in_categorical_columns(df_temp, 'Unknown')\n",
    "    df_temp = replace_missing_values_in_numerical_columns(df_temp,'median')\n",
    "\n",
    "    #dealing with duplicates\n",
    "    df_temp = drop_duplicate_rows(df_temp)\n",
    "\n",
    "\n",
    "    return df_temp\n",
    "\n",
    "if __name__ == \"__main__\":\n",
    "\n",
    "    col_rename_dict = {'st':'state',\n",
    "                        'number_of_open_complaints':'open_complaints'}\n",
    "\n",
    "    state_harmonize_dict = {'AZ':'Arizona',\n",
    "                            'WA':'Washington',\n",
    "                            'Cali':'California'}\n",
    "\n",
    "    gender_harmonize_dict = {'Femal':'F',\n",
    "                             'Male': 'M',\n",
    "                             'female':'F'}\n",
    "\n",
    "    education_harmonize_dict = {'Bachelors':'Bachelor',\n",
    "                                'College':'Bachelor'}\n",
    "\n",
    "    df = pd.read_csv(\"https://raw.githubusercontent.com/data-bootcamp-v4/data/main/file1.csv\")\n",
    "\n",
    "    df = clean_df(df)\n"
   ]
  },
  {
   "cell_type": "markdown",
   "id": "80f846bb-3f5e-4ca2-96c0-900728daca5a",
   "metadata": {
    "tags": []
   },
   "source": [
    "# Challenge 3: Analyzing Clean and Formated Data"
   ]
  },
  {
   "cell_type": "markdown",
   "id": "9021630e-cc90-446c-b5bd-264d6c864207",
   "metadata": {},
   "source": [
    "You have been tasked with analyzing the data to identify potential areas for improving customer retention and profitability. Your goal is to identify customers with a high policy claim amount and a low customer lifetime value.\n",
    "\n",
    "In Pandas Lab, we only looked at high policy claim amounts because we couldn't look into low customer lifetime values. If we tried to do work with that column, we wouldn't have been able to do it because customer lifetime value wasn't clean and in its proper format. So after cleaning and formatting the data, lets get some more interesting insights!\n",
    "\n",
    "Instructions:\n",
    "\n",
    "- Review again the statistics for total claim amount and customer lifetime value to gain an understanding of the data.\n",
    "- To identify potential areas for improving customer retention and profitability, we want to focus on customers with a high policy claim amount and a low customer lifetime value. Consider customers with a high policy claim amount to be those in the top 25% of the total claim amount, and clients with a low customer lifetime value to be those in the bottom 25% of the customer lifetime value. Create a pandas DataFrame object that contains information about customers with a policy claim amount greater than the 75th percentile and a customer lifetime value in the bottom 25th percentile.\n",
    "- Use DataFrame methods to calculate summary statistics about the high policy claim amount and low customer lifetime value data. To do so, select both columns of the dataframe simultaneously and pass it to the .describe() method. This will give you descriptive statistics, such as mean, median, standard deviation, minimum and maximum values for both columns at the same time, allowing you to compare and analyze their characteristics."
   ]
  },
  {
   "cell_type": "code",
   "execution_count": 57,
   "id": "a67ded42-100a-462b-844f-86243ea3b2ea",
   "metadata": {},
   "outputs": [],
   "source": [
    "pd.set_option('display.float_format', lambda x: '%.2f' % x)"
   ]
  },
  {
   "cell_type": "code",
   "execution_count": 61,
   "id": "211e82b5-461a-4d6f-8a23-4deccb84173c",
   "metadata": {},
   "outputs": [
    {
     "data": {
      "text/html": [
       "<div>\n",
       "<style scoped>\n",
       "    .dataframe tbody tr th:only-of-type {\n",
       "        vertical-align: middle;\n",
       "    }\n",
       "\n",
       "    .dataframe tbody tr th {\n",
       "        vertical-align: top;\n",
       "    }\n",
       "\n",
       "    .dataframe thead th {\n",
       "        text-align: right;\n",
       "    }\n",
       "</style>\n",
       "<table border=\"1\" class=\"dataframe\">\n",
       "  <thead>\n",
       "    <tr style=\"text-align: right;\">\n",
       "      <th></th>\n",
       "      <th>total_claim_amount</th>\n",
       "      <th>customer_lifetime_value</th>\n",
       "    </tr>\n",
       "  </thead>\n",
       "  <tbody>\n",
       "    <tr>\n",
       "      <th>count</th>\n",
       "      <td>1072.00</td>\n",
       "      <td>1072.00</td>\n",
       "    </tr>\n",
       "    <tr>\n",
       "      <th>mean</th>\n",
       "      <td>404.94</td>\n",
       "      <td>792923.41</td>\n",
       "    </tr>\n",
       "    <tr>\n",
       "      <th>std</th>\n",
       "      <td>292.89</td>\n",
       "      <td>642397.98</td>\n",
       "    </tr>\n",
       "    <tr>\n",
       "      <th>min</th>\n",
       "      <td>0.38</td>\n",
       "      <td>200435.07</td>\n",
       "    </tr>\n",
       "    <tr>\n",
       "      <th>25%</th>\n",
       "      <td>202.51</td>\n",
       "      <td>405405.10</td>\n",
       "    </tr>\n",
       "    <tr>\n",
       "      <th>50%</th>\n",
       "      <td>354.73</td>\n",
       "      <td>588174.23</td>\n",
       "    </tr>\n",
       "    <tr>\n",
       "      <th>75%</th>\n",
       "      <td>532.80</td>\n",
       "      <td>893767.48</td>\n",
       "    </tr>\n",
       "    <tr>\n",
       "      <th>max</th>\n",
       "      <td>2893.24</td>\n",
       "      <td>5816655.35</td>\n",
       "    </tr>\n",
       "  </tbody>\n",
       "</table>\n",
       "</div>"
      ],
      "text/plain": [
       "       total_claim_amount  customer_lifetime_value\n",
       "count             1072.00                  1072.00\n",
       "mean               404.94                792923.41\n",
       "std                292.89                642397.98\n",
       "min                  0.38                200435.07\n",
       "25%                202.51                405405.10\n",
       "50%                354.73                588174.23\n",
       "75%                532.80                893767.48\n",
       "max               2893.24               5816655.35"
      ]
     },
     "execution_count": 61,
     "metadata": {},
     "output_type": "execute_result"
    }
   ],
   "source": [
    "# stats for total claim amount and customer lifetime value\n",
    "\n",
    "df[['total_claim_amount','customer_lifetime_value']].describe()"
   ]
  },
  {
   "cell_type": "code",
   "execution_count": 65,
   "id": "b1b1789c-6755-4e23-8da6-4ffbed080e94",
   "metadata": {},
   "outputs": [
    {
     "data": {
      "text/html": [
       "<div>\n",
       "<style scoped>\n",
       "    .dataframe tbody tr th:only-of-type {\n",
       "        vertical-align: middle;\n",
       "    }\n",
       "\n",
       "    .dataframe tbody tr th {\n",
       "        vertical-align: top;\n",
       "    }\n",
       "\n",
       "    .dataframe thead th {\n",
       "        text-align: right;\n",
       "    }\n",
       "</style>\n",
       "<table border=\"1\" class=\"dataframe\">\n",
       "  <thead>\n",
       "    <tr style=\"text-align: right;\">\n",
       "      <th></th>\n",
       "      <th>customer</th>\n",
       "      <th>state</th>\n",
       "      <th>gender</th>\n",
       "      <th>education</th>\n",
       "      <th>customer_lifetime_value</th>\n",
       "      <th>income</th>\n",
       "      <th>monthly_premium_auto</th>\n",
       "      <th>open_complaints</th>\n",
       "      <th>policy_type</th>\n",
       "      <th>vehicle_class</th>\n",
       "      <th>total_claim_amount</th>\n",
       "    </tr>\n",
       "  </thead>\n",
       "  <tbody>\n",
       "    <tr>\n",
       "      <th>17</th>\n",
       "      <td>OE15005</td>\n",
       "      <td>California</td>\n",
       "      <td>Unknown</td>\n",
       "      <td>Bachelor</td>\n",
       "      <td>394524.16</td>\n",
       "      <td>28855.00</td>\n",
       "      <td>101.00</td>\n",
       "      <td>1.00</td>\n",
       "      <td>Personal Auto</td>\n",
       "      <td>SUV</td>\n",
       "      <td>647.44</td>\n",
       "    </tr>\n",
       "    <tr>\n",
       "      <th>23</th>\n",
       "      <td>TZ98966</td>\n",
       "      <td>Nevada</td>\n",
       "      <td>Unknown</td>\n",
       "      <td>Bachelor</td>\n",
       "      <td>245019.10</td>\n",
       "      <td>0.00</td>\n",
       "      <td>73.00</td>\n",
       "      <td>1.00</td>\n",
       "      <td>Corporate Auto</td>\n",
       "      <td>Four-Door Car</td>\n",
       "      <td>554.38</td>\n",
       "    </tr>\n",
       "    <tr>\n",
       "      <th>26</th>\n",
       "      <td>US89481</td>\n",
       "      <td>California</td>\n",
       "      <td>Unknown</td>\n",
       "      <td>Bachelor</td>\n",
       "      <td>394637.21</td>\n",
       "      <td>0.00</td>\n",
       "      <td>111.00</td>\n",
       "      <td>1.00</td>\n",
       "      <td>Personal Auto</td>\n",
       "      <td>Four-Door Car</td>\n",
       "      <td>799.20</td>\n",
       "    </tr>\n",
       "    <tr>\n",
       "      <th>38</th>\n",
       "      <td>CM61827</td>\n",
       "      <td>Oregon</td>\n",
       "      <td>Unknown</td>\n",
       "      <td>Bachelor</td>\n",
       "      <td>309003.41</td>\n",
       "      <td>0.00</td>\n",
       "      <td>90.00</td>\n",
       "      <td>1.00</td>\n",
       "      <td>Personal Auto</td>\n",
       "      <td>Two-Door Car</td>\n",
       "      <td>648.00</td>\n",
       "    </tr>\n",
       "    <tr>\n",
       "      <th>42</th>\n",
       "      <td>IL19217</td>\n",
       "      <td>California</td>\n",
       "      <td>Unknown</td>\n",
       "      <td>Bachelor</td>\n",
       "      <td>393900.64</td>\n",
       "      <td>60021.00</td>\n",
       "      <td>99.00</td>\n",
       "      <td>1.00</td>\n",
       "      <td>Personal Auto</td>\n",
       "      <td>Four-Door Car</td>\n",
       "      <td>882.87</td>\n",
       "    </tr>\n",
       "  </tbody>\n",
       "</table>\n",
       "</div>"
      ],
      "text/plain": [
       "   customer       state   gender education  customer_lifetime_value   income  \\\n",
       "17  OE15005  California  Unknown  Bachelor                394524.16 28855.00   \n",
       "23  TZ98966      Nevada  Unknown  Bachelor                245019.10     0.00   \n",
       "26  US89481  California  Unknown  Bachelor                394637.21     0.00   \n",
       "38  CM61827      Oregon  Unknown  Bachelor                309003.41     0.00   \n",
       "42  IL19217  California  Unknown  Bachelor                393900.64 60021.00   \n",
       "\n",
       "    monthly_premium_auto  open_complaints     policy_type  vehicle_class  \\\n",
       "17                101.00             1.00   Personal Auto            SUV   \n",
       "23                 73.00             1.00  Corporate Auto  Four-Door Car   \n",
       "26                111.00             1.00   Personal Auto  Four-Door Car   \n",
       "38                 90.00             1.00   Personal Auto   Two-Door Car   \n",
       "42                 99.00             1.00   Personal Auto  Four-Door Car   \n",
       "\n",
       "    total_claim_amount  \n",
       "17              647.44  \n",
       "23              554.38  \n",
       "26              799.20  \n",
       "38              648.00  \n",
       "42              882.87  "
      ]
     },
     "execution_count": 65,
     "metadata": {},
     "output_type": "execute_result"
    }
   ],
   "source": [
    "#customers with high policy claim and low customer lifetime value\n",
    "high_claim = df['total_claim_amount']>=df['total_claim_amount'].quantile(0.75)\n",
    "low_clv = df['customer_lifetime_value']<=df['customer_lifetime_value'].quantile(0.25)\n",
    "\n",
    "high_claim_low_val = df[high_claim & low_clv]\n",
    "high_claim_low_val.head()"
   ]
  },
  {
   "cell_type": "code",
   "execution_count": 66,
   "id": "1817b534-f5b5-404e-85a6-7ab715d2a3a0",
   "metadata": {},
   "outputs": [
    {
     "data": {
      "text/html": [
       "<div>\n",
       "<style scoped>\n",
       "    .dataframe tbody tr th:only-of-type {\n",
       "        vertical-align: middle;\n",
       "    }\n",
       "\n",
       "    .dataframe tbody tr th {\n",
       "        vertical-align: top;\n",
       "    }\n",
       "\n",
       "    .dataframe thead th {\n",
       "        text-align: right;\n",
       "    }\n",
       "</style>\n",
       "<table border=\"1\" class=\"dataframe\">\n",
       "  <thead>\n",
       "    <tr style=\"text-align: right;\">\n",
       "      <th></th>\n",
       "      <th>total_claim_amount</th>\n",
       "      <th>customer_lifetime_value</th>\n",
       "    </tr>\n",
       "  </thead>\n",
       "  <tbody>\n",
       "    <tr>\n",
       "      <th>count</th>\n",
       "      <td>41.00</td>\n",
       "      <td>41.00</td>\n",
       "    </tr>\n",
       "    <tr>\n",
       "      <th>mean</th>\n",
       "      <td>719.12</td>\n",
       "      <td>340056.27</td>\n",
       "    </tr>\n",
       "    <tr>\n",
       "      <th>std</th>\n",
       "      <td>150.39</td>\n",
       "      <td>57043.70</td>\n",
       "    </tr>\n",
       "    <tr>\n",
       "      <th>min</th>\n",
       "      <td>532.80</td>\n",
       "      <td>228759.69</td>\n",
       "    </tr>\n",
       "    <tr>\n",
       "      <th>25%</th>\n",
       "      <td>632.72</td>\n",
       "      <td>289873.27</td>\n",
       "    </tr>\n",
       "    <tr>\n",
       "      <th>50%</th>\n",
       "      <td>679.37</td>\n",
       "      <td>365253.24</td>\n",
       "    </tr>\n",
       "    <tr>\n",
       "      <th>75%</th>\n",
       "      <td>799.20</td>\n",
       "      <td>387364.70</td>\n",
       "    </tr>\n",
       "    <tr>\n",
       "      <th>max</th>\n",
       "      <td>1185.99</td>\n",
       "      <td>402381.44</td>\n",
       "    </tr>\n",
       "  </tbody>\n",
       "</table>\n",
       "</div>"
      ],
      "text/plain": [
       "       total_claim_amount  customer_lifetime_value\n",
       "count               41.00                    41.00\n",
       "mean               719.12                340056.27\n",
       "std                150.39                 57043.70\n",
       "min                532.80                228759.69\n",
       "25%                632.72                289873.27\n",
       "50%                679.37                365253.24\n",
       "75%                799.20                387364.70\n",
       "max               1185.99                402381.44"
      ]
     },
     "execution_count": 66,
     "metadata": {},
     "output_type": "execute_result"
    }
   ],
   "source": [
    "#summary stats for the high claim and low CLV group\n",
    "\n",
    "high_claim_low_val[['total_claim_amount','customer_lifetime_value']].describe()"
   ]
  },
  {
   "cell_type": "code",
   "execution_count": null,
   "id": "46699b52-917f-4450-b679-22ec7aee9777",
   "metadata": {},
   "outputs": [],
   "source": []
  }
 ],
 "metadata": {
  "kernelspec": {
   "display_name": "Python 3 (ipykernel)",
   "language": "python",
   "name": "python3"
  },
  "language_info": {
   "codemirror_mode": {
    "name": "ipython",
    "version": 3
   },
   "file_extension": ".py",
   "mimetype": "text/x-python",
   "name": "python",
   "nbconvert_exporter": "python",
   "pygments_lexer": "ipython3",
   "version": "3.11.4"
  }
 },
 "nbformat": 4,
 "nbformat_minor": 5
}
